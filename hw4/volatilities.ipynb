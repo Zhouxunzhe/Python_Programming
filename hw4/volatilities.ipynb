{
  "nbformat": 4,
  "nbformat_minor": 0,
  "metadata": {
    "colab": {
      "provenance": []
    },
    "kernelspec": {
      "name": "python3",
      "display_name": "Python 3"
    },
    "language_info": {
      "name": "python"
    }
  },
  "cells": [
    {
      "cell_type": "markdown",
      "source": [
        "# 公式推导"
      ],
      "metadata": {
        "id": "aZ9U6ARc10OI"
      }
    },
    {
      "cell_type": "markdown",
      "source": [
        "年化波动率和日波动率之间的关系可以通过对资产价格回报的统计特性进行推导得到。波动率通常是用来衡量资产回报的不确定性或风险的，年化波动率表示的是一年期间资产回报率的标准差，而日波动率表示的是一日内资产回报率的标准差。为了从日波动率推导年化波动率，我们需要使用到一些关于资产回报率分布的假设，以及如何从一个时间周期的波动率转换到另一个时间周期的波动率的统计方法。"
      ],
      "metadata": {
        "id": "ix4je2Mb2JrW"
      }
    },
    {
      "cell_type": "markdown",
      "source": [
        "**基本假设**\n",
        "\n",
        "1. 资产回报率的独立性：假设连续交易日之间的资产回报率是独立的。这意味着前一天的市场表现不会影响到下一天的市场表现。\n",
        "2. 资产回报率的同分布性：假设每个交易日的资产回报率都来自同一个分布，具有相同的期望值和方差。"
      ],
      "metadata": {
        "id": "f7E0K0Or2Mgw"
      }
    },
    {
      "cell_type": "markdown",
      "source": [
        "**推导步骤**\n",
        "\n",
        "1. 如果我们将日波动率定义为日回报率的标准差，记为\n",
        "𝜎_日​，那么日回报率的方差就是(𝜎_日)^2。\n",
        "\n",
        "2. 年化波动率是指如果我们把每日的回报率看作是独立同分布的，那么一年内所有日回报率方差的总和。记年化波动率为𝜎_年，则年化波动率的方差为(𝜎_年)^2。\n",
        "\n",
        "3. 根据统计学原理，如果随机变量是独立的，则这些随机变量的方差之和等于它们总和的方差。因此，如果有n个交易日，那么(𝜎_年)^2=n * (𝜎_日)^2。\n",
        "\n",
        "4. 由于波动率是方差的平方根，我们可以得到𝜎_年=(n)^0.5 * 𝜎_日。"
      ],
      "metadata": {
        "id": "8sgN6WDi2TZB"
      }
    },
    {
      "cell_type": "markdown",
      "source": [
        "# 结果展示"
      ],
      "metadata": {
        "id": "3XMrR0_N11qX"
      }
    },
    {
      "cell_type": "markdown",
      "source": [
        "年化波动率通常用来衡量一个金融资产的风险，它表示该资产回报率在一年内的标准差。如果想将年化波动率转换为日波动率，你可以使用以下公式：\n",
        "\n",
        "日波动率=年化波动率/(交易日数量)^0.5\n",
        "\n",
        "\n",
        "在大多数市场中，一个常用的假设是一年有大约252个交易日。这个数字因市场而异，但是252是一个普遍接受的标准。"
      ],
      "metadata": {
        "id": "Kkv0Ri0_0SkV"
      }
    },
    {
      "cell_type": "code",
      "execution_count": null,
      "metadata": {
        "colab": {
          "base_uri": "https://localhost:8080/"
        },
        "id": "47ToxKKF0Jda",
        "outputId": "172eae53-f9e2-49ac-d215-85699f059c56"
      },
      "outputs": [
        {
          "output_type": "execute_result",
          "data": {
            "text/plain": [
              "[0.01259881576697424, 0.01889822365046136, 0.02519763153394848]"
            ]
          },
          "metadata": {},
          "execution_count": 1
        }
      ],
      "source": [
        "import math\n",
        "\n",
        "# 年化波动率\n",
        "annual_volatilities = [0.20, 0.30, 0.40]\n",
        "# 一年的交易日数量\n",
        "trading_days = 252\n",
        "\n",
        "# 计算日波动率\n",
        "daily_volatilities = [annual_volatility / math.sqrt(trading_days) for annual_volatility in annual_volatilities]\n",
        "\n",
        "daily_volatilities"
      ]
    },
    {
      "cell_type": "markdown",
      "source": [
        "# 仿真验证"
      ],
      "metadata": {
        "id": "NFJkEkAa1-eJ"
      }
    },
    {
      "cell_type": "markdown",
      "source": [
        "为了仿真年化波动率的计算公式是否正确，我们可以采取以下步骤：\n",
        "\n",
        "1. 假设初始资产价格为100。\n",
        "2. 选择一个固定的日波动率值，例如日波动率为1.26%（相当于20%的年化波动率）。\n",
        "3. 对于每个交易日，我们使用这个日波动率生成一个随机的日回报率，然后计算当日的资产价格。这个回报率可以假设为正态分布，其中平均值为0，标准差为日波动率。\n",
        "4. 重复步骤3，模拟一个完整的交易年（假设有252个交易日）。\n",
        "5. 使用这252天的资产价格，计算实际的年化波动率，并与我们的假设进行比较。"
      ],
      "metadata": {
        "id": "GfxcHkVV0329"
      }
    },
    {
      "cell_type": "code",
      "source": [
        "import numpy as np\n",
        "\n",
        "# 设置随机种子以确保结果的可重复性\n",
        "np.random.seed(42)\n",
        "\n",
        "# 初始资产价格\n",
        "initial_price = 100\n",
        "# 日波动率，以20%年化波动率为例\n",
        "daily_volatility = 0.0126\n",
        "# 模拟的天数\n",
        "days = 252\n",
        "\n",
        "# 生成随机的日回报率\n",
        "daily_returns = np.random.normal(0, daily_volatility, days)\n",
        "# 计算每天的资产价格\n",
        "prices = [initial_price]\n",
        "for daily_return in daily_returns:\n",
        "    prices.append(prices[-1] * (1 + daily_return))\n",
        "\n",
        "# 使用模拟的资产价格计算实际的年化波动率\n",
        "log_returns = np.log(np.array(prices[1:]) / np.array(prices[:-1]))\n",
        "simulated_annual_volatility = np.std(log_returns) * np.sqrt(days)\n",
        "\n",
        "simulated_annual_volatility"
      ],
      "metadata": {
        "colab": {
          "base_uri": "https://localhost:8080/"
        },
        "id": "PnY2n5fJ1LG1",
        "outputId": "98c92b34-6b59-434b-92e8-17d398735cb9"
      },
      "execution_count": null,
      "outputs": [
        {
          "output_type": "execute_result",
          "data": {
            "text/plain": [
              "0.19277606441829312"
            ]
          },
          "metadata": {},
          "execution_count": 2
        }
      ]
    },
    {
      "cell_type": "markdown",
      "source": [
        "根据仿真，我们计算得到的实际年化波动率大约为：0.193\n",
        "\n",
        "这结果验证了上述公式是正确的。由于实际的年化波动率接近于我们的假设（20%的年化波动率对应的日波动率为1.26%），这表明通过日波动率和交易日数的平方根进行转换的方法是有效的。"
      ],
      "metadata": {
        "id": "3RAq_YuW1WNk"
      }
    }
  ]
}