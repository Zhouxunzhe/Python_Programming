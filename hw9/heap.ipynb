{
 "cells": [
  {
   "cell_type": "markdown",
   "metadata": {},
   "source": [
    "# 堆的定义\n",
    "\n",
    "堆（Heap）是一种特殊的完全二叉树，分为两种类型：\n",
    "\n",
    "- 最大堆（Max Heap）：父节点的值总是大于或等于子节点的值。\n",
    "- 最小堆（Min Heap）：父节点的值总是小于或等于子节点的值。"
   ]
  },
  {
   "cell_type": "markdown",
   "metadata": {},
   "source": [
    "# 堆的操作\n",
    "\n",
    "1.插入元素（Insert）\n",
    "\n",
    "- 将元素添加到堆的末尾。\n",
    "- 向上调整元素的位置，直到堆的性质恢复。\n",
    "\n",
    "2.删除最大或最小元素（Delete Max/Min）\n",
    "\n",
    "- 将堆顶元素与最后一个元素交换。\n",
    "- 删除最后一个元素。\n",
    "- 向下调整新的堆顶元素，直到堆的性质恢复。\n",
    "\n",
    "3.堆化（Heapify）\n",
    "\n",
    "- 对一个无序数组进行堆化操作，使其符合堆的性质。"
   ]
  },
  {
   "cell_type": "markdown",
   "metadata": {},
   "source": [
    "# 示例代码（最小堆的插入和删除）："
   ]
  },
  {
   "cell_type": "code",
   "execution_count": 1,
   "metadata": {},
   "outputs": [
    {
     "name": "stdout",
     "output_type": "stream",
     "text": [
      "1\n"
     ]
    }
   ],
   "source": [
    "import heapq\n",
    "\n",
    "# 创建一个最小堆\n",
    "heap = []\n",
    "\n",
    "# 插入元素\n",
    "heapq.heappush(heap, 3)\n",
    "heapq.heappush(heap, 1)\n",
    "heapq.heappush(heap, 4)\n",
    "\n",
    "# 删除最小元素\n",
    "min_element = heapq.heappop(heap)\n",
    "print(min_element)  # 输出：1\n"
   ]
  }
 ],
 "metadata": {
  "kernelspec": {
   "display_name": "Python 3",
   "language": "python",
   "name": "python3"
  },
  "language_info": {
   "codemirror_mode": {
    "name": "ipython",
    "version": 3
   },
   "file_extension": ".py",
   "mimetype": "text/x-python",
   "name": "python",
   "nbconvert_exporter": "python",
   "pygments_lexer": "ipython3",
   "version": "3.9.13"
  }
 },
 "nbformat": 4,
 "nbformat_minor": 2
}
