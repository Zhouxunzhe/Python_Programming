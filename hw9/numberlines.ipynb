{
 "cells": [
  {
   "cell_type": "markdown",
   "metadata": {},
   "source": [
    "# 分析`numberlines.py`程序\n",
    "\n",
    "这个程序的主要功能是读取一个文件，并在每一行的末尾添加行号。下面是逐行的分析："
   ]
  },
  {
   "cell_type": "code",
   "execution_count": null,
   "metadata": {},
   "outputs": [],
   "source": [
    "import fileinput"
   ]
  },
  {
   "cell_type": "markdown",
   "metadata": {},
   "source": [
    "fileinput 模块允许对一个或多个文件进行逐行的输入操作。"
   ]
  },
  {
   "cell_type": "code",
   "execution_count": null,
   "metadata": {},
   "outputs": [],
   "source": [
    "for line in fileinput.input(inplace=True):"
   ]
  },
  {
   "cell_type": "markdown",
   "metadata": {},
   "source": [
    "这行代码启动了一个循环，对每一行进行处理。inplace=True 表示对文件进行原地修改，即修改后的内容会直接写回到文件中。"
   ]
  },
  {
   "cell_type": "code",
   "execution_count": null,
   "metadata": {},
   "outputs": [],
   "source": [
    "    line = line.rstrip()"
   ]
  },
  {
   "cell_type": "markdown",
   "metadata": {},
   "source": [
    "这行代码移除了每行末尾的所有空白字符（包括换行符）。"
   ]
  },
  {
   "cell_type": "code",
   "execution_count": null,
   "metadata": {},
   "outputs": [],
   "source": [
    "    num = fileinput.lineno()"
   ]
  },
  {
   "cell_type": "markdown",
   "metadata": {},
   "source": [
    "fileinput.lineno() 返回当前处理的行号。"
   ]
  },
  {
   "cell_type": "code",
   "execution_count": null,
   "metadata": {},
   "outputs": [],
   "source": [
    "    print('{:<50} # {:2d}'.format(line, num))"
   ]
  },
  {
   "cell_type": "markdown",
   "metadata": {},
   "source": [
    "这行代码将每行文本和行号格式化输出。'{:<50} # {:2d}' 表示文本左对齐，占50个字符宽度，行号右对齐，占2个字符宽度，并用#符号分隔。"
   ]
  }
 ],
 "metadata": {
  "language_info": {
   "name": "python"
  }
 },
 "nbformat": 4,
 "nbformat_minor": 2
}
