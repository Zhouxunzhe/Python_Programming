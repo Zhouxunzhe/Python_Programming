{
 "cells": [
  {
   "cell_type": "markdown",
   "metadata": {},
   "source": [
    "## 复现第九章代码\n",
    "\n",
    "**周训哲 20307110315**\n",
    "\n",
    "### 一、复现本章代码"
   ]
  },
  {
   "cell_type": "code",
   "execution_count": 1,
   "metadata": {},
   "outputs": [
    {
     "data": {
      "text/plain": [
       "'This is a constructor argument'"
      ]
     },
     "execution_count": 1,
     "metadata": {},
     "output_type": "execute_result"
    }
   ],
   "source": [
    "class FooBar:\n",
    "    def __init__(self, value=42):\n",
    "        self.somevar = value\n",
    "f = FooBar('This is a constructor argument')\n",
    "f.somevar"
   ]
  },
  {
   "cell_type": "code",
   "execution_count": 2,
   "metadata": {},
   "outputs": [
    {
     "name": "stdout",
     "output_type": "stream",
     "text": [
      "Hello, I'm A.\n",
      "Hello, I'm A.\n"
     ]
    }
   ],
   "source": [
    "class A:\n",
    "    def hello(self):\n",
    "        print(\"Hello, I'm A.\")\n",
    "\n",
    "class B(A):\n",
    "    pass\n",
    "a = A()\n",
    "b = B()\n",
    "a.hello()\n",
    "b.hello()"
   ]
  },
  {
   "cell_type": "code",
   "execution_count": 3,
   "metadata": {},
   "outputs": [
    {
     "name": "stdout",
     "output_type": "stream",
     "text": [
      "Hello, I'm B.\n"
     ]
    }
   ],
   "source": [
    "class B(A):\n",
    "    def hello(self):\n",
    "        print(\"Hello, I'm B.\")\n",
    "b = B()\n",
    "b.hello()"
   ]
  },
  {
   "cell_type": "code",
   "execution_count": 4,
   "metadata": {},
   "outputs": [
    {
     "name": "stdout",
     "output_type": "stream",
     "text": [
      "Aaaah...\n",
      "No, thanks!\n"
     ]
    }
   ],
   "source": [
    "class Bird:\n",
    "    def __init__(self):\n",
    "        self.hungry = True\n",
    "    def eat(self):\n",
    "        if self.hungry:\n",
    "            print('Aaaah...')\n",
    "            self.hungry = False\n",
    "        else:\n",
    "            print('No, thanks!')\n",
    "b = Bird()\n",
    "b.eat()\n",
    "b.eat()"
   ]
  },
  {
   "cell_type": "code",
   "execution_count": 7,
   "metadata": {},
   "outputs": [
    {
     "name": "stdout",
     "output_type": "stream",
     "text": [
      "Squawk!\n",
      "Aaaah...\n",
      "No, thanks!\n"
     ]
    }
   ],
   "source": [
    "class SongBird(Bird):\n",
    "    def __init__(self):\n",
    "        Bird.__init__(self)\n",
    "        self.sound = 'Squawk!'\n",
    "    def sing(self):\n",
    "        print(self.sound)\n",
    "sb = SongBird()\n",
    "sb.sing()\n",
    "sb.eat()\n",
    "sb.eat()"
   ]
  },
  {
   "cell_type": "code",
   "execution_count": 8,
   "metadata": {},
   "outputs": [
    {
     "name": "stdout",
     "output_type": "stream",
     "text": [
      "Squawk!\n",
      "Aaaah...\n",
      "No, thanks!\n"
     ]
    }
   ],
   "source": [
    "class Bird:\n",
    "    def __init__(self):\n",
    "        self.hungry = True\n",
    "    def eat(self):\n",
    "        if self.hungry:\n",
    "            print('Aaaah...')\n",
    "            self.hungry = False\n",
    "        else:\n",
    "            print('No, thanks!')\n",
    "\n",
    "class SongBird(Bird):\n",
    "    def __init__(self):\n",
    "        super().__init__()\n",
    "        self.sound = 'Squawk!'\n",
    "    def sing(self):\n",
    "        print(self.sound)\n",
    "sb = SongBird()\n",
    "sb.sing()\n",
    "sb.eat()\n",
    "sb.eat()"
   ]
  },
  {
   "cell_type": "code",
   "execution_count": 9,
   "metadata": {},
   "outputs": [
    {
     "name": "stdout",
     "output_type": "stream",
     "text": [
      "9\n",
      "2\n",
      "11\n"
     ]
    }
   ],
   "source": [
    "def check_index(key):\n",
    "    if not isinstance(key, int): raise TypeError\n",
    "    if key < 0: raise IndexError\n",
    "\n",
    "class ArithmeticSequence:\n",
    "    def __init__(self, start=0, step=1):\n",
    "        self.start = start\n",
    "        self.step = step\n",
    "        self.changed = {}\n",
    "    def __getitem__(self, key):\n",
    "        check_index(key)\n",
    "        try: return self.changed[key]\n",
    "        except KeyError: return self.start + key * self.step\n",
    "    def __setitem__(self, key, value):\n",
    "        check_index(key)\n",
    "        self.changed[key] = value\n",
    "s = ArithmeticSequence(1, 2)\n",
    "print(s[4])\n",
    "s[4] = 2\n",
    "print(s[4])\n",
    "print(s[5])"
   ]
  },
  {
   "cell_type": "code",
   "execution_count": 10,
   "metadata": {},
   "outputs": [
    {
     "name": "stdout",
     "output_type": "stream",
     "text": [
      "[0, 1, 2, 3, 4, 5, 6, 7, 8, 9]\n",
      "[9, 8, 7, 6, 5, 4, 3, 2, 1, 0]\n",
      "[9, 8, 7, 3, 2, 1, 0]\n",
      "0\n",
      "9\n",
      "2\n"
     ]
    }
   ],
   "source": [
    "class CounterList(list):\n",
    "    def __init__(self, *args):\n",
    "        super().__init__(*args)\n",
    "        self.counter = 0\n",
    "    def __getitem__(self, index):\n",
    "        self.counter += 1\n",
    "        return super(CounterList, self).__getitem__(index)\n",
    "    \n",
    "cl = CounterList(range(10))\n",
    "print(cl)\n",
    "cl.reverse()\n",
    "print(cl)\n",
    "del cl[3:6]\n",
    "print(cl)\n",
    "print(cl.counter)\n",
    "print(cl[4] + cl[2])\n",
    "print(cl.counter)\n"
   ]
  },
  {
   "cell_type": "code",
   "execution_count": 11,
   "metadata": {},
   "outputs": [
    {
     "name": "stdout",
     "output_type": "stream",
     "text": [
      "(10, 5)\n",
      "150\n"
     ]
    }
   ],
   "source": [
    "class Rectangle:\n",
    "    def __init__(self):\n",
    "        self.width = 0\n",
    "        self.height = 0\n",
    "    def set_size(self, size):\n",
    "        self.width, self.height = size\n",
    "    def get_size(self):\n",
    "        return self.width, self.height\n",
    "r = Rectangle()\n",
    "r.width = 10\n",
    "r.height = 5\n",
    "print(r.get_size())\n",
    "r.set_size((150, 100))\n",
    "print(r.width)"
   ]
  },
  {
   "cell_type": "code",
   "execution_count": 13,
   "metadata": {},
   "outputs": [
    {
     "name": "stdout",
     "output_type": "stream",
     "text": [
      "(10, 5)\n",
      "150\n"
     ]
    }
   ],
   "source": [
    "class Rectangle:\n",
    "    def __init__(self):\n",
    "        self.width = 0\n",
    "        self.height = 0\n",
    "    def set_size(self, size):\n",
    "        self.width, self.height = size\n",
    "    def get_size(self):\n",
    "        return self.width, self.height\n",
    "    size = property(get_size, set_size)\n",
    "r = Rectangle()\n",
    "r.width = 10\n",
    "r.height = 5\n",
    "print(r.size)\n",
    "r.size = 150, 100\n",
    "print(r.width)"
   ]
  },
  {
   "cell_type": "code",
   "execution_count": 14,
   "metadata": {},
   "outputs": [
    {
     "name": "stdout",
     "output_type": "stream",
     "text": [
      "This is a static method\n",
      "This is a class method of <class '__main__.MyClass'>\n"
     ]
    }
   ],
   "source": [
    "class MyClass:\n",
    "    def smeth():\n",
    "        print('This is a static method')\n",
    "    smeth = staticmethod(smeth)\n",
    "\n",
    "    def cmeth(cls):\n",
    "        print('This is a class method of', cls)\n",
    "    cmeth = classmethod(cmeth)\n",
    "\n",
    "class MyClass:\n",
    "    @staticmethod\n",
    "    def smeth():\n",
    "        print('This is a static method')\n",
    "\n",
    "    @classmethod\n",
    "    def cmeth(cls):\n",
    "        print('This is a class method of', cls)\n",
    "\n",
    "MyClass.smeth()\n",
    "MyClass.cmeth()"
   ]
  },
  {
   "cell_type": "code",
   "execution_count": 15,
   "metadata": {},
   "outputs": [],
   "source": [
    "class Rectangle:\n",
    "    def __init__(self):\n",
    "        self.width = 0\n",
    "        self.height = 0\n",
    "    def __setattr__(self, name, value):\n",
    "        if name == 'size':\n",
    "            self.width, self.height = value\n",
    "        else:\n",
    "            self.__dict__[name] = value\n",
    "    def __getattr__(self, name):\n",
    "        if name == 'size':\n",
    "            return self.width, self.height\n",
    "        else:\n",
    "            raise AttributeError()"
   ]
  },
  {
   "cell_type": "code",
   "execution_count": 17,
   "metadata": {},
   "outputs": [
    {
     "name": "stdout",
     "output_type": "stream",
     "text": [
      "1597\n"
     ]
    }
   ],
   "source": [
    "class Fib:\n",
    "    def __init__(self):\n",
    "        self.a = 0\n",
    "        self.b = 1\n",
    "    def __next__(self):\n",
    "        self.a, self.b = self.b, self.a + self.b\n",
    "        return self.a\n",
    "    def __iter__(self):\n",
    "        return self\n",
    "fibs = Fib()\n",
    "for f in fibs:\n",
    "    if f > 1000:\n",
    "        print(f)\n",
    "        break"
   ]
  },
  {
   "cell_type": "code",
   "execution_count": 18,
   "metadata": {},
   "outputs": [
    {
     "data": {
      "text/plain": [
       "[1, 2, 3, 4, 5, 6, 7, 8, 9, 10]"
      ]
     },
     "execution_count": 18,
     "metadata": {},
     "output_type": "execute_result"
    }
   ],
   "source": [
    "class TestIterator:\n",
    "    value = 0\n",
    "    def __next__(self):\n",
    "        self.value += 1\n",
    "        if self.value > 10: raise StopIteration\n",
    "        return self.value\n",
    "    def __iter__(self):\n",
    "        return self\n",
    "ti = TestIterator()\n",
    "list(ti)"
   ]
  },
  {
   "cell_type": "code",
   "execution_count": 19,
   "metadata": {},
   "outputs": [
    {
     "data": {
      "text/plain": [
       "[1, 2, 3, 4, 5]"
      ]
     },
     "execution_count": 19,
     "metadata": {},
     "output_type": "execute_result"
    }
   ],
   "source": [
    "nested = [[1, 2], [3, 4], [5]]\n",
    "def flatten(nested):\n",
    "    for sublist in nested:\n",
    "        for element in sublist:\n",
    "            yield element\n",
    "list(flatten(nested))"
   ]
  },
  {
   "cell_type": "code",
   "execution_count": 20,
   "metadata": {},
   "outputs": [
    {
     "data": {
      "text/plain": [
       "[1, 2, 3, 4, 5, 6, 7, 8]"
      ]
     },
     "execution_count": 20,
     "metadata": {},
     "output_type": "execute_result"
    }
   ],
   "source": [
    "def flatten(nested):\n",
    "    try:\n",
    "        for sublist in nested:\n",
    "            for element in flatten(sublist):\n",
    "                yield element\n",
    "    except TypeError:\n",
    "        yield nested\n",
    "list(flatten([[[1], 2], 3, 4, [5, [6, 7]], 8]))"
   ]
  },
  {
   "cell_type": "code",
   "execution_count": 21,
   "metadata": {},
   "outputs": [
    {
     "name": "stdout",
     "output_type": "stream",
     "text": [
      "42\n",
      "Hello, world!\n"
     ]
    }
   ],
   "source": [
    "def repeater(value):\n",
    "    while True:\n",
    "        new = (yield value)\n",
    "        if new is not None: value = new\n",
    "r = repeater(42)\n",
    "print(next(r))\n",
    "print(r.send('Hello, world!'))"
   ]
  },
  {
   "cell_type": "markdown",
   "metadata": {},
   "source": [
    "### 二、对已有学生类实现下标检索、赋值功能"
   ]
  },
  {
   "cell_type": "code",
   "execution_count": 22,
   "metadata": {},
   "outputs": [],
   "source": [
    "class Student(object):\n",
    "    # 初始化学生类即完成学生的注册\n",
    "    def __init__(self, id, name, birthdate, register_date):\n",
    "        self.id = id\n",
    "        self.name = name\n",
    "        self.birthdate = birthdate\n",
    "        self.register_date = register_date\n",
    "\n",
    "        self.grade = 1 # 默认为1年级\n",
    "        self.score = {} # 学生成绩\n",
    "        self.credit = {} # 学生学分\n",
    "    \n",
    "    def getGPA(self):\n",
    "        # 计算学生的GPA\n",
    "        total_credit = 0\n",
    "        total_score = 0\n",
    "        for key in self.score:\n",
    "            total_credit += self.credit[key]\n",
    "            total_score += self.score[key] * self.credit[key]\n",
    "        return total_score / total_credit\n",
    "\n",
    "    def setGrade(self, grade):\n",
    "        self.grade = grade\n",
    "    \n",
    "    def promote_wo_exam(self, scoreLine):\n",
    "        if self.getGPA() >= scoreLine:\n",
    "            return True\n",
    "        return False\n",
    "    \n",
    "    def graduate(self):\n",
    "        if self.grade == 4 and self.getGPA() >= 2.2:\n",
    "            return True\n",
    "        return False\n",
    "    \n",
    "    def __getitem__(self, subject):\n",
    "        return self.score.get(subject)\n",
    "    \n",
    "    def __setitem__(self, subject, score):\n",
    "        self.score[subject] = score"
   ]
  },
  {
   "cell_type": "code",
   "execution_count": 23,
   "metadata": {},
   "outputs": [
    {
     "data": {
      "text/plain": [
       "3.7"
      ]
     },
     "execution_count": 23,
     "metadata": {},
     "output_type": "execute_result"
    }
   ],
   "source": [
    "小明 = Student(1, '小明', '1990-01-01', '2000-09-01')\n",
    "小明['泛函分析'] = 3.7\n",
    "小明['泛函分析']"
   ]
  },
  {
   "cell_type": "markdown",
   "metadata": {},
   "source": [
    "### 三、斐波那契数列的大于100000的元素是第几个？"
   ]
  },
  {
   "cell_type": "code",
   "execution_count": 27,
   "metadata": {},
   "outputs": [
    {
     "name": "stdout",
     "output_type": "stream",
     "text": [
      "121393是第一个大于100000的斐波那契数\n",
      "是第26个斐波那契数\n"
     ]
    }
   ],
   "source": [
    "class Fib:\n",
    "    def __init__(self):\n",
    "        self.a = 0\n",
    "        self.b = 1\n",
    "        self.counter = 0\n",
    "    def __next__(self):\n",
    "        self.a, self.b = self.b, self.a + self.b\n",
    "        self.counter += 1\n",
    "        return self.a\n",
    "    def __iter__(self):\n",
    "        return self\n",
    "\n",
    "fibs = Fib()\n",
    "for f in fibs:\n",
    "    if f > 100000:\n",
    "        print(f\"{f}是第一个大于100000的斐波那契数\")\n",
    "        print(f\"是第{fibs.counter}个斐波那契数\")\n",
    "        break"
   ]
  },
  {
   "cell_type": "markdown",
   "metadata": {},
   "source": [
    "### 四、运行八皇后问题，并说明程序过程"
   ]
  },
  {
   "cell_type": "code",
   "execution_count": 28,
   "metadata": {},
   "outputs": [],
   "source": [
    "def conflict(state, nextX):\n",
    "    nextY = len(state)\n",
    "    for i in range(nextY):\n",
    "        if abs(state[i] - nextX) in (0, nextY - i):\n",
    "            return True\n",
    "    return False"
   ]
  },
  {
   "cell_type": "markdown",
   "metadata": {},
   "source": [
    "这个函数的作用是对用户指定的下一步下法进行冲突检测，如果下一步落子的位置和之前落子的X坐标（即列）相同，或X坐标差值等于Y坐标差值，则有冲突；否则没有冲突。"
   ]
  },
  {
   "cell_type": "code",
   "execution_count": 29,
   "metadata": {},
   "outputs": [],
   "source": [
    "def queens(num, state):\n",
    "    if len(state) == num-1:\n",
    "        for pos in range(num):\n",
    "            if not conflict(state, pos):\n",
    "                yield pos"
   ]
  },
  {
   "cell_type": "markdown",
   "metadata": {},
   "source": [
    "这段代码是在只差最后一个皇后没有放好时，返回可能的落子位置。下面是对这个函数的一个测试。"
   ]
  },
  {
   "cell_type": "code",
   "execution_count": 30,
   "metadata": {},
   "outputs": [
    {
     "data": {
      "text/plain": [
       "[2]"
      ]
     },
     "execution_count": 30,
     "metadata": {},
     "output_type": "execute_result"
    }
   ],
   "source": [
    "list(queens(4, (1, 3, 0)))"
   ]
  },
  {
   "cell_type": "markdown",
   "metadata": {},
   "source": [
    "下面对queens做一些改进，使得它可以递归地处理本问题。"
   ]
  },
  {
   "cell_type": "code",
   "execution_count": 32,
   "metadata": {},
   "outputs": [],
   "source": [
    "def queens(num=8, state=()):\n",
    "    for pos in range(num):\n",
    "        if not conflict(state, pos):\n",
    "            if len(state) == num-1:\n",
    "                yield (pos,)\n",
    "            else:\n",
    "                for result in queens(num, state + (pos,)):\n",
    "                    yield (pos,) + result"
   ]
  },
  {
   "cell_type": "code",
   "execution_count": 33,
   "metadata": {},
   "outputs": [
    {
     "data": {
      "text/plain": [
       "92"
      ]
     },
     "execution_count": 33,
     "metadata": {},
     "output_type": "execute_result"
    }
   ],
   "source": [
    "len(list(queens(8)))"
   ]
  },
  {
   "cell_type": "markdown",
   "metadata": {},
   "source": [
    "在上面的代码中，queens将递归地搜索所有可能的结果，直至填满棋盘的每一行，并回溯返回一个解，直至返回所有的解。"
   ]
  },
  {
   "cell_type": "code",
   "execution_count": 34,
   "metadata": {},
   "outputs": [],
   "source": [
    "def prettyprint(solution):\n",
    "    def line(pos, length=len(solution)):\n",
    "        return '. ' * (pos) + 'X ' + '. ' * (length - pos - 1)\n",
    "    for pos in solution:\n",
    "        print(line(pos))"
   ]
  },
  {
   "cell_type": "markdown",
   "metadata": {},
   "source": [
    "上面这个函数将接收一个解，将这个解绘制为棋盘的形式。"
   ]
  },
  {
   "cell_type": "code",
   "execution_count": 35,
   "metadata": {},
   "outputs": [
    {
     "name": "stdout",
     "output_type": "stream",
     "text": [
      "X . . . . . . . \n",
      ". . . . X . . . \n",
      ". . . . . . . X \n",
      ". . . . . X . . \n",
      ". . X . . . . . \n",
      ". . . . . . X . \n",
      ". X . . . . . . \n",
      ". . . X . . . . \n"
     ]
    }
   ],
   "source": [
    "prettyprint(next(queens(8)))"
   ]
  }
 ],
 "metadata": {
  "kernelspec": {
   "display_name": "progra-basis",
   "language": "python",
   "name": "python3"
  },
  "language_info": {
   "codemirror_mode": {
    "name": "ipython",
    "version": 3
   },
   "file_extension": ".py",
   "mimetype": "text/x-python",
   "name": "python",
   "nbconvert_exporter": "python",
   "pygments_lexer": "ipython3",
   "version": "3.9.18"
  }
 },
 "nbformat": 4,
 "nbformat_minor": 2
}
