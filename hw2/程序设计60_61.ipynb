{
  "nbformat": 4,
  "nbformat_minor": 0,
  "metadata": {
    "colab": {
      "provenance": []
    },
    "kernelspec": {
      "name": "python3",
      "display_name": "Python 3"
    },
    "language_info": {
      "name": "python"
    }
  },
  "cells": [
    {
      "cell_type": "markdown",
      "source": [
        "# 第 4 章 当索引行不通时\n",
        "## 4.2 创建和使用字典"
      ],
      "metadata": {
        "id": "PuLdP8JAEXiE"
      }
    },
    {
      "cell_type": "markdown",
      "source": [
        "**4. get** \\\n",
        "方法get为访问字典项提供了宽松的环境。通常，如果你试图访问字典中没有的项，将引发错误。"
      ],
      "metadata": {
        "id": "ZBigq86-EtGv"
      }
    },
    {
      "cell_type": "code",
      "execution_count": 1,
      "metadata": {
        "colab": {
          "base_uri": "https://localhost:8080/",
          "height": 158
        },
        "id": "rqbNva5WDsF1",
        "outputId": "55531025-34f5-42fa-8c2c-469f0f0d82e1"
      },
      "outputs": [
        {
          "output_type": "error",
          "ename": "KeyError",
          "evalue": "'name'",
          "traceback": [
            "\u001b[0;31m---------------------------------------------------------------------------\u001b[0m",
            "\u001b[0;31mKeyError\u001b[0m                                  Traceback (most recent call last)",
            "\u001b[0;32m<ipython-input-1-c92ea8278836>\u001b[0m in \u001b[0;36m<cell line: 2>\u001b[0;34m()\u001b[0m\n\u001b[1;32m      1\u001b[0m \u001b[0md\u001b[0m \u001b[0;34m=\u001b[0m \u001b[0;34m{\u001b[0m\u001b[0;34m}\u001b[0m\u001b[0;34m\u001b[0m\u001b[0;34m\u001b[0m\u001b[0m\n\u001b[0;32m----> 2\u001b[0;31m \u001b[0mprint\u001b[0m\u001b[0;34m(\u001b[0m\u001b[0md\u001b[0m\u001b[0;34m[\u001b[0m\u001b[0;34m'name'\u001b[0m\u001b[0;34m]\u001b[0m\u001b[0;34m)\u001b[0m\u001b[0;34m\u001b[0m\u001b[0;34m\u001b[0m\u001b[0m\n\u001b[0m",
            "\u001b[0;31mKeyError\u001b[0m: 'name'"
          ]
        }
      ],
      "source": [
        "d = {}\n",
        "print(d['name'])"
      ]
    },
    {
      "cell_type": "markdown",
      "source": [
        "而使用get不会这样："
      ],
      "metadata": {
        "id": "2_rrny0KFNIw"
      }
    },
    {
      "cell_type": "code",
      "source": [
        "print(d.get('name'))"
      ],
      "metadata": {
        "colab": {
          "base_uri": "https://localhost:8080/"
        },
        "id": "83Cm3w2bFOOz",
        "outputId": "6a157642-3c8e-433b-c596-e41f14f6c1e3"
      },
      "execution_count": 2,
      "outputs": [
        {
          "output_type": "stream",
          "name": "stdout",
          "text": [
            "None\n"
          ]
        }
      ]
    },
    {
      "cell_type": "markdown",
      "source": [
        "如你所见，使用get来访问不存在的键时，没有引发异常，而是返回None。你可指定“默认”值，这样将返回你指定的值而不是None。"
      ],
      "metadata": {
        "id": "vaYo1YpSFTm2"
      }
    },
    {
      "cell_type": "code",
      "source": [
        "d.get('name', 'N/A')"
      ],
      "metadata": {
        "colab": {
          "base_uri": "https://localhost:8080/",
          "height": 35
        },
        "id": "K9XpTHygFYAf",
        "outputId": "4f62db12-8a85-4979-9567-7ccd6c8d7dad"
      },
      "execution_count": 3,
      "outputs": [
        {
          "output_type": "execute_result",
          "data": {
            "text/plain": [
              "'N/A'"
            ],
            "application/vnd.google.colaboratory.intrinsic+json": {
              "type": "string"
            }
          },
          "metadata": {},
          "execution_count": 3
        }
      ]
    },
    {
      "cell_type": "markdown",
      "source": [
        "如果字典包含指定的键，get的作用将与普通字典查找相同。"
      ],
      "metadata": {
        "id": "CiXuDOi8FcFk"
      }
    },
    {
      "cell_type": "code",
      "source": [
        "d['name'] = 'Eric'\n",
        "d.get('name')"
      ],
      "metadata": {
        "colab": {
          "base_uri": "https://localhost:8080/",
          "height": 35
        },
        "id": "wiR34iLvFfpS",
        "outputId": "1ddc2802-ab19-4ed2-9bb3-54c0a0619850"
      },
      "execution_count": 4,
      "outputs": [
        {
          "output_type": "execute_result",
          "data": {
            "text/plain": [
              "'Eric'"
            ],
            "application/vnd.google.colaboratory.intrinsic+json": {
              "type": "string"
            }
          },
          "metadata": {},
          "execution_count": 4
        }
      ]
    },
    {
      "cell_type": "markdown",
      "source": [
        "**代码清单4-1 字典示例**"
      ],
      "metadata": {
        "id": "uIdNBJPFGcvj"
      }
    },
    {
      "cell_type": "code",
      "source": [
        "# 一个简单的数据库\n",
        "# 一个将人名用作键的字典。每个人都用一个字典表示，\n",
        "# 字典包含键'phone'和'addr'，它们分别与电话号码和地址相关联\n",
        "people = {\n",
        " 'Alice': {\n",
        "  'phone': '2341',\n",
        "  'addr': 'Foo drive 23'\n",
        " },\n",
        " 'Beth': {\n",
        "  'phone': '9102',\n",
        "  'addr': 'Bar street 42'\n",
        " },\n",
        " 'Cecil': {\n",
        "  'phone': '3158',\n",
        "  'addr': 'Baz avenue 90'\n",
        " }\n",
        "}\n",
        "# 电话号码和地址的描述性标签，供打印输出时使用\n",
        "labels = {\n",
        " 'phone': 'phone number',\n",
        " 'addr': 'address'\n",
        "}\n",
        "name = input('Name: ')\n",
        "# 要查找电话号码还是地址？\n",
        "request = input('Phone number (p) or address (a)? ')\n",
        "# 使用正确的键：\n",
        "if request == 'p': key = 'phone'\n",
        "if request == 'a': key = 'addr'\n",
        "# 仅当名字是字典包含的键时才打印信息：\n",
        "if name in people: print(\"{}'s {} is {}.\".format(name, labels[key], people[name][key]))"
      ],
      "metadata": {
        "colab": {
          "base_uri": "https://localhost:8080/"
        },
        "id": "kaknHzEKGhkd",
        "outputId": "7f9e6245-af13-4842-81ff-4ea3d90e2d6e"
      },
      "execution_count": 6,
      "outputs": [
        {
          "output_type": "stream",
          "name": "stdout",
          "text": [
            "Name: Beth\n",
            "Phone number (p) or address (a)? p\n",
            "Beth's phone number is 9102.\n"
          ]
        }
      ]
    },
    {
      "cell_type": "markdown",
      "source": [
        "代码清单4-2是代码清单4-1所示程序的修改版本，它使用了方法get来访问“数据库”条目\\\n",
        "**代码清单4-2 字典方法示例**"
      ],
      "metadata": {
        "id": "WstwioY-Fol5"
      }
    },
    {
      "cell_type": "code",
      "source": [
        "# 一个使用get()的简单数据库\n",
        "# 在这里插入代码清单4-1中的数据库（字典people）\n",
        "labels = {\n",
        " 'phone': 'phone number',\n",
        " 'addr': 'address'\n",
        "}\n",
        "name = input('Name: ')\n",
        "# 要查找电话号码还是地址？\n",
        "request = input('Phone number (p) or address (a)? ')\n",
        "# 使用正确的键：\n",
        "key = request # 如果request既不是'p'也不是'a'\n",
        "if request == 'p': key = 'phone'\n",
        "if request == 'a': key = 'addr'\n",
        "# 使用get提供默认值\n",
        "person = people.get(name, {})\n",
        "label = labels.get(key, key)\n",
        "result = person.get(key, 'not available')\n",
        "print(\"{}'s {} is {}.\".format(name, label, result))"
      ],
      "metadata": {
        "colab": {
          "base_uri": "https://localhost:8080/"
        },
        "id": "L1yE6FmfF77H",
        "outputId": "55d4871b-0ae9-40c1-ae2d-636d918068fa"
      },
      "execution_count": 7,
      "outputs": [
        {
          "output_type": "stream",
          "name": "stdout",
          "text": [
            "Name: Gumby\n",
            "Phone number (p) or address (a)? batting average\n",
            "Gumby's batting average is not available.\n"
          ]
        }
      ]
    },
    {
      "cell_type": "markdown",
      "source": [
        "这个程序的运行情况。注意到get提高了灵活性，让程序在用户输入的值出乎意料时也能妥善处理。"
      ],
      "metadata": {
        "id": "iEfWPxk7HWg0"
      }
    },
    {
      "cell_type": "markdown",
      "source": [
        "**5. items**\n",
        "方法items返回一个包含所有字典项的列表，其中每个元素都为(key, value)的形式。字典项在列表中的排列顺序不确定。"
      ],
      "metadata": {
        "id": "U3pR5I2GHcov"
      }
    },
    {
      "cell_type": "code",
      "source": [
        "d = {'title': 'Python Web Site', 'url': 'http://www.python.org', 'spam': 0}\n",
        "d.items()"
      ],
      "metadata": {
        "colab": {
          "base_uri": "https://localhost:8080/"
        },
        "id": "wccubcv6Hkzi",
        "outputId": "9d0f3cbb-33b0-4f4f-c850-62c9138d79dc"
      },
      "execution_count": 8,
      "outputs": [
        {
          "output_type": "execute_result",
          "data": {
            "text/plain": [
              "dict_items([('title', 'Python Web Site'), ('url', 'http://www.python.org'), ('spam', 0)])"
            ]
          },
          "metadata": {},
          "execution_count": 8
        }
      ]
    },
    {
      "cell_type": "markdown",
      "source": [
        "返回值属于一种名为字典视图的特殊类型。字典视图可用于迭代（迭代将在第5章详细介绍）。另外，你还可确定其长度以及对其执行成员资格检查。"
      ],
      "metadata": {
        "id": "Um6Kaj2lHrOd"
      }
    },
    {
      "cell_type": "code",
      "source": [
        "it = d.items()\n",
        "len(it)"
      ],
      "metadata": {
        "colab": {
          "base_uri": "https://localhost:8080/"
        },
        "id": "VSs3QyA7Huwf",
        "outputId": "20b61df7-6658-4130-fe29-dbc8cc66a5bb"
      },
      "execution_count": 9,
      "outputs": [
        {
          "output_type": "execute_result",
          "data": {
            "text/plain": [
              "3"
            ]
          },
          "metadata": {},
          "execution_count": 9
        }
      ]
    },
    {
      "cell_type": "code",
      "source": [
        "('spam', 0) in it"
      ],
      "metadata": {
        "colab": {
          "base_uri": "https://localhost:8080/"
        },
        "id": "PuCCJUBNHz3O",
        "outputId": "4534dfa6-e179-4484-c6a9-0c15935efb45"
      },
      "execution_count": 10,
      "outputs": [
        {
          "output_type": "execute_result",
          "data": {
            "text/plain": [
              "True"
            ]
          },
          "metadata": {},
          "execution_count": 10
        }
      ]
    },
    {
      "cell_type": "markdown",
      "source": [
        "视图的一个优点是不复制，它们始终是底层字典的反映，即便你修改了底层字典亦如此。"
      ],
      "metadata": {
        "id": "_IofQbwfH2h6"
      }
    },
    {
      "cell_type": "code",
      "source": [
        "d['spam'] = 1\n",
        "('spam', 0) in it"
      ],
      "metadata": {
        "colab": {
          "base_uri": "https://localhost:8080/"
        },
        "id": "gUItSPyOH4Vk",
        "outputId": "70ed4983-bdd1-4c78-98e6-260f1c29f6e9"
      },
      "execution_count": 11,
      "outputs": [
        {
          "output_type": "execute_result",
          "data": {
            "text/plain": [
              "False"
            ]
          },
          "metadata": {},
          "execution_count": 11
        }
      ]
    },
    {
      "cell_type": "code",
      "source": [
        "d['spam'] = 0\n",
        "('spam', 0) in it"
      ],
      "metadata": {
        "colab": {
          "base_uri": "https://localhost:8080/"
        },
        "id": "SUqTm-ahH9YU",
        "outputId": "cc04786c-5407-4b76-8762-3056eaeb9829"
      },
      "execution_count": 12,
      "outputs": [
        {
          "output_type": "execute_result",
          "data": {
            "text/plain": [
              "True"
            ]
          },
          "metadata": {},
          "execution_count": 12
        }
      ]
    },
    {
      "cell_type": "markdown",
      "source": [
        "然而，如果你要将字典项复制到列表中（在较旧的Python版本中，方法items就是这样做的），可自己动手做。"
      ],
      "metadata": {
        "id": "L1IhsXlsIB0P"
      }
    },
    {
      "cell_type": "code",
      "source": [
        "list(d.items())"
      ],
      "metadata": {
        "colab": {
          "base_uri": "https://localhost:8080/"
        },
        "id": "ZPPaFRoeIEJm",
        "outputId": "dd923937-fc69-4396-dd6b-449126d19c63"
      },
      "execution_count": 13,
      "outputs": [
        {
          "output_type": "execute_result",
          "data": {
            "text/plain": [
              "[('title', 'Python Web Site'), ('url', 'http://www.python.org'), ('spam', 0)]"
            ]
          },
          "metadata": {},
          "execution_count": 13
        }
      ]
    },
    {
      "cell_type": "markdown",
      "source": [
        "**6. keys**\\\n",
        "方法keys返回一个字典视图，其中包含指定字典中的键。\\\n",
        "**7. pop**\\\n",
        "方法pop可用于获取与指定键相关联的值，并将该键值对从字典中删除。"
      ],
      "metadata": {
        "id": "q6Wpi0N6IHRh"
      }
    },
    {
      "cell_type": "code",
      "source": [
        "d = {'x': 1, 'y': 2}\n",
        "d.pop('x')"
      ],
      "metadata": {
        "colab": {
          "base_uri": "https://localhost:8080/"
        },
        "id": "IH9xdkBQIPCo",
        "outputId": "3ee66777-3057-41c2-9b8d-683641bfc51a"
      },
      "execution_count": 14,
      "outputs": [
        {
          "output_type": "execute_result",
          "data": {
            "text/plain": [
              "1"
            ]
          },
          "metadata": {},
          "execution_count": 14
        }
      ]
    },
    {
      "cell_type": "code",
      "source": [
        "d"
      ],
      "metadata": {
        "colab": {
          "base_uri": "https://localhost:8080/"
        },
        "id": "wZ5uow9gIQXl",
        "outputId": "68102312-32f0-4c4b-c3a9-aac3933f4a4e"
      },
      "execution_count": 15,
      "outputs": [
        {
          "output_type": "execute_result",
          "data": {
            "text/plain": [
              "{'y': 2}"
            ]
          },
          "metadata": {},
          "execution_count": 15
        }
      ]
    },
    {
      "cell_type": "markdown",
      "source": [
        "**8. popitem**\n",
        "方法popitem类似于list.pop，但list.pop弹出列表中的最后一个元素，而popitem随机地弹出一个字典项，因为字典项的顺序是不确定的，没有“最后一个元素”的概念。如果你要以高效地方式逐个删除并处理所有字典项，这可能很有用，因为这样无需先获取键列表。"
      ],
      "metadata": {
        "id": "GWRtfRCyIY3j"
      }
    },
    {
      "cell_type": "code",
      "source": [
        "d = {'url': 'http://www.python.org', 'spam': 0, 'title': 'Python Web Site'}\n",
        "d.popitem()"
      ],
      "metadata": {
        "colab": {
          "base_uri": "https://localhost:8080/"
        },
        "id": "5ie1PaYPIg24",
        "outputId": "edb739ef-c5e1-449b-8d79-6c81846c0763"
      },
      "execution_count": 16,
      "outputs": [
        {
          "output_type": "execute_result",
          "data": {
            "text/plain": [
              "('title', 'Python Web Site')"
            ]
          },
          "metadata": {},
          "execution_count": 16
        }
      ]
    },
    {
      "cell_type": "code",
      "source": [
        "d"
      ],
      "metadata": {
        "colab": {
          "base_uri": "https://localhost:8080/"
        },
        "id": "mutJeOK0Ikmp",
        "outputId": "7a81cf5d-4a95-4bf4-c20f-6c550a07d90e"
      },
      "execution_count": 17,
      "outputs": [
        {
          "output_type": "execute_result",
          "data": {
            "text/plain": [
              "{'url': 'http://www.python.org', 'spam': 0}"
            ]
          },
          "metadata": {},
          "execution_count": 17
        }
      ]
    },
    {
      "cell_type": "markdown",
      "source": [
        "虽然popitem类似于列表方法pop，但字典没有与append（它在列表末尾添加一个元素）对应的方法。这是因为字典是无序的，类似的方法毫无意义。\\\n",
        "提示 如果希望方法popitem以可预测的顺序弹出字典项，请参阅模块collections中的OrderedDict类。"
      ],
      "metadata": {
        "id": "k-Z2-vCdIm_c"
      }
    }
  ]
}