{
 "cells": [
  {
   "cell_type": "code",
   "execution_count": 1,
   "id": "bcdbf413",
   "metadata": {},
   "outputs": [
    {
     "data": {
      "text/plain": [
       "[<matplotlib.lines.Line2D at 0x1d396f05cd0>]"
      ]
     },
     "execution_count": 1,
     "metadata": {},
     "output_type": "execute_result"
    },
    {
     "data": {
      "image/png": "[encoded data removed]",
      "text/plain": [
       "<Figure size 360x216 with 1 Axes>"
      ]
     },
     "metadata": {
      "needs_background": "light"
     },
     "output_type": "display_data"
    },
    {
     "data": {
      "image/png": "[encoded data removed]",
      "text/plain": [
       "<Figure size 360x216 with 1 Axes>"
      ]
     },
     "metadata": {
      "needs_background": "light"
     },
     "output_type": "display_data"
    }
   ],
   "source": [
    "\n",
    "\n",
    "import numpy as np\n",
    "import pandas as pd\n",
    "import matplotlib.pyplot as plt\n",
    "get_ipython().run_line_magic('matplotlib', 'inline')\n",
    "\n",
    "#运行时配置参数\n",
    "#rcParams：runtime configuration Parameters\n",
    "\n",
    "#让图片可以显示中文\n",
    "plt.rcParams['font.sans-serif']='SimHei'\n",
    "#让图片可以显示负号\n",
    "plt.rcParams['axes.unicode_minus']=False\n",
    "\n",
    "\n",
    "# In[9]:\n",
    "\n",
    "\n",
    "plt.figure(figsize=(5,3))\n",
    "x=['星期一','星期二','星期三','星期四','星期五','星期六','星期日']\n",
    "y=np.random.randn(7)\n",
    "y=y+5\n",
    "plt.plot(x,y,c='g',marker='D',markersize=5)\n",
    "\n",
    "plt.xlabel('星期')\n",
    "plt.ylabel('业绩')\n",
    "plt.title('每周业绩')\n",
    "\n",
    "for a,b in zip(x,y):\n",
    "    plt.text(a,b,int(b),ha='center',va='bottom')\n",
    "\n",
    "\n",
    "# In[10]:\n",
    "\n",
    "\n",
    "plt.figure(figsize=(5,3))\n",
    "\n",
    "x=np.random.randint(0,10,size=15)\n",
    "\n",
    "plt.plot(x,marker='*',c='r')\n",
    "plt.plot(x.cumsum(),marker='+',c='b')\n",
    "\n",
    "\n",
    "# In[23]:\n",
    "\n",
    "\n"
   ]
  },
  {
   "cell_type": "markdown",
   "id": "eb776dfe",
   "metadata": {},
   "source": [
    "# 读excel"
   ]
  },
  {
   "cell_type": "code",
   "execution_count": 2,
   "id": "48b839c5",
   "metadata": {},
   "outputs": [
    {
     "data": {
      "text/html": [
       "<div>\n",
       "<style scoped>\n",
       "    .dataframe tbody tr th:only-of-type {\n",
       "        vertical-align: middle;\n",
       "    }\n",
       "\n",
       "    .dataframe tbody tr th {\n",
       "        vertical-align: top;\n",
       "    }\n",
       "\n",
       "    .dataframe thead th {\n",
       "        text-align: right;\n",
       "    }\n",
       "</style>\n",
       "<table border=\"1\" class=\"dataframe\">\n",
       "  <thead>\n",
       "    <tr style=\"text-align: right;\">\n",
       "      <th></th>\n",
       "      <th>月份</th>\n",
       "      <th>语文</th>\n",
       "      <th>数学</th>\n",
       "      <th>英语</th>\n",
       "    </tr>\n",
       "  </thead>\n",
       "  <tbody>\n",
       "    <tr>\n",
       "      <th>0</th>\n",
       "      <td>1月</td>\n",
       "      <td>95</td>\n",
       "      <td>82</td>\n",
       "      <td>85</td>\n",
       "    </tr>\n",
       "    <tr>\n",
       "      <th>1</th>\n",
       "      <td>2月</td>\n",
       "      <td>93</td>\n",
       "      <td>71</td>\n",
       "      <td>66</td>\n",
       "    </tr>\n",
       "    <tr>\n",
       "      <th>2</th>\n",
       "      <td>3月</td>\n",
       "      <td>94</td>\n",
       "      <td>77</td>\n",
       "      <td>78</td>\n",
       "    </tr>\n",
       "    <tr>\n",
       "      <th>3</th>\n",
       "      <td>4月</td>\n",
       "      <td>90</td>\n",
       "      <td>89</td>\n",
       "      <td>87</td>\n",
       "    </tr>\n",
       "    <tr>\n",
       "      <th>4</th>\n",
       "      <td>5月</td>\n",
       "      <td>77</td>\n",
       "      <td>89</td>\n",
       "      <td>76</td>\n",
       "    </tr>\n",
       "    <tr>\n",
       "      <th>5</th>\n",
       "      <td>6月</td>\n",
       "      <td>68</td>\n",
       "      <td>72</td>\n",
       "      <td>90</td>\n",
       "    </tr>\n",
       "    <tr>\n",
       "      <th>6</th>\n",
       "      <td>7月</td>\n",
       "      <td>99</td>\n",
       "      <td>89</td>\n",
       "      <td>80</td>\n",
       "    </tr>\n",
       "    <tr>\n",
       "      <th>7</th>\n",
       "      <td>8月</td>\n",
       "      <td>77</td>\n",
       "      <td>85</td>\n",
       "      <td>82</td>\n",
       "    </tr>\n",
       "    <tr>\n",
       "      <th>8</th>\n",
       "      <td>9月</td>\n",
       "      <td>87</td>\n",
       "      <td>83</td>\n",
       "      <td>97</td>\n",
       "    </tr>\n",
       "    <tr>\n",
       "      <th>9</th>\n",
       "      <td>10月</td>\n",
       "      <td>78</td>\n",
       "      <td>89</td>\n",
       "      <td>92</td>\n",
       "    </tr>\n",
       "    <tr>\n",
       "      <th>10</th>\n",
       "      <td>11月</td>\n",
       "      <td>82</td>\n",
       "      <td>86</td>\n",
       "      <td>98</td>\n",
       "    </tr>\n",
       "    <tr>\n",
       "      <th>11</th>\n",
       "      <td>12月</td>\n",
       "      <td>67</td>\n",
       "      <td>72</td>\n",
       "      <td>97</td>\n",
       "    </tr>\n",
       "  </tbody>\n",
       "</table>\n",
       "</div>"
      ],
      "text/plain": [
       "     月份  语文  数学  英语\n",
       "0    1月  95  82  85\n",
       "1    2月  93  71  66\n",
       "2    3月  94  77  78\n",
       "3    4月  90  89  87\n",
       "4    5月  77  89  76\n",
       "5    6月  68  72  90\n",
       "6    7月  99  89  80\n",
       "7    8月  77  85  82\n",
       "8    9月  87  83  97\n",
       "9   10月  78  89  92\n",
       "10  11月  82  86  98\n",
       "11  12月  67  72  97"
      ]
     },
     "execution_count": 2,
     "metadata": {},
     "output_type": "execute_result"
    }
   ],
   "source": [
    "\n",
    "df=pd.read_excel('data/plot1.xlsx',sheet_name='Sheet1')\n",
    "df\n"
   ]
  },
  {
   "cell_type": "code",
   "execution_count": 3,
   "id": "a80f0bdd",
   "metadata": {},
   "outputs": [],
   "source": [
    "x,y1,y2,y3=df.月份, df.语文, df.数学, df.英语\n"
   ]
  },
  {
   "cell_type": "code",
   "execution_count": 4,
   "id": "4a19940c",
   "metadata": {},
   "outputs": [
    {
     "data": {
      "text/plain": [
       "0     85\n",
       "1     66\n",
       "2     78\n",
       "3     87\n",
       "4     76\n",
       "5     90\n",
       "6     80\n",
       "7     82\n",
       "8     97\n",
       "9     92\n",
       "10    98\n",
       "11    97\n",
       "Name: 英语, dtype: int64"
      ]
     },
     "execution_count": 4,
     "metadata": {},
     "output_type": "execute_result"
    }
   ],
   "source": [
    "y3"
   ]
  },
  {
   "cell_type": "code",
   "execution_count": 5,
   "id": "a4041e97",
   "metadata": {},
   "outputs": [
    {
     "data": {
      "image/png": "[encoded data removed]",
      "text/plain": [
       "<Figure size 360x216 with 1 Axes>"
      ]
     },
     "metadata": {
      "needs_background": "light"
     },
     "output_type": "display_data"
    }
   ],
   "source": [
    "plt.figure(figsize=(5,3))\n",
    "plt.plot(x,y1,label='语文', c='g',ls='--',marker='*',mfc='y',ms=10,alpha=0.6)\n",
    "plt.plot(x,y2,label='数学', c='b',ls='-.',marker='o',mfc='w',ms=10,alpha=0.6)\n",
    "plt.plot(x,y3,label='英语', c='r',ls=':',marker='+',mfc='w',ms=10,alpha=0.6)\n",
    "plt.yticks(range(0,110,10))\n",
    "plt.ylabel('成绩')\n",
    "plt.xlabel('月份')\n",
    "plt.title('成绩变化趋势')\n",
    "plt.legend()\n",
    "plt.grid(axis='y',ls='--')\n",
    "\n",
    "plt.show()"
   ]
  },
  {
   "cell_type": "markdown",
   "id": "ffdf655b",
   "metadata": {},
   "source": [
    "# 柱状图"
   ]
  },
  {
   "cell_type": "code",
   "execution_count": 6,
   "id": "7b8eb340",
   "metadata": {},
   "outputs": [
    {
     "data": {
      "text/html": [
       "<div>\n",
       "<style scoped>\n",
       "    .dataframe tbody tr th:only-of-type {\n",
       "        vertical-align: middle;\n",
       "    }\n",
       "\n",
       "    .dataframe tbody tr th {\n",
       "        vertical-align: top;\n",
       "    }\n",
       "\n",
       "    .dataframe thead th {\n",
       "        text-align: right;\n",
       "    }\n",
       "</style>\n",
       "<table border=\"1\" class=\"dataframe\">\n",
       "  <thead>\n",
       "    <tr style=\"text-align: right;\">\n",
       "      <th></th>\n",
       "      <th>年份</th>\n",
       "      <th>投资额</th>\n",
       "    </tr>\n",
       "  </thead>\n",
       "  <tbody>\n",
       "    <tr>\n",
       "      <th>0</th>\n",
       "      <td>2014</td>\n",
       "      <td>60.50</td>\n",
       "    </tr>\n",
       "    <tr>\n",
       "      <th>1</th>\n",
       "      <td>2015</td>\n",
       "      <td>80.74</td>\n",
       "    </tr>\n",
       "    <tr>\n",
       "      <th>2</th>\n",
       "      <td>2016</td>\n",
       "      <td>50.63</td>\n",
       "    </tr>\n",
       "    <tr>\n",
       "      <th>3</th>\n",
       "      <td>2017</td>\n",
       "      <td>88.00</td>\n",
       "    </tr>\n",
       "    <tr>\n",
       "      <th>4</th>\n",
       "      <td>2018</td>\n",
       "      <td>90.43</td>\n",
       "    </tr>\n",
       "    <tr>\n",
       "      <th>5</th>\n",
       "      <td>2019</td>\n",
       "      <td>100.01</td>\n",
       "    </tr>\n",
       "    <tr>\n",
       "      <th>6</th>\n",
       "      <td>2020</td>\n",
       "      <td>95.00</td>\n",
       "    </tr>\n",
       "  </tbody>\n",
       "</table>\n",
       "</div>"
      ],
      "text/plain": [
       "     年份     投资额\n",
       "0  2014   60.50\n",
       "1  2015   80.74\n",
       "2  2016   50.63\n",
       "3  2017   88.00\n",
       "4  2018   90.43\n",
       "5  2019  100.01\n",
       "6  2020   95.00"
      ]
     },
     "execution_count": 6,
     "metadata": {},
     "output_type": "execute_result"
    }
   ],
   "source": [
    "df=pd.read_excel('data/plot1.xlsx',sheet_name='bar')\n",
    "df"
   ]
  },
  {
   "cell_type": "code",
   "execution_count": 7,
   "id": "89605aa4",
   "metadata": {},
   "outputs": [],
   "source": [
    "x,y=df.年份,df.投资额\n"
   ]
  },
  {
   "cell_type": "code",
   "execution_count": 8,
   "id": "7117d355",
   "metadata": {},
   "outputs": [
    {
     "data": {
      "image/png": "[encoded data removed]",
      "text/plain": [
       "<Figure size 360x216 with 1 Axes>"
      ]
     },
     "metadata": {
      "needs_background": "light"
     },
     "output_type": "display_data"
    }
   ],
   "source": [
    "plt.figure(figsize=(5,3))\n",
    "plt.title('年投资额')\n",
    "plt.xlabel('年份')\n",
    "plt.ylabel('投资额')\n",
    "\n",
    "plt.bar(x,y,width=0.8)\n",
    "\n",
    "for a,b in zip(x,y):\n",
    "    plt.text(x=a,\n",
    "            y=b,\n",
    "            s='{:.1f}亿'.format(b),\n",
    "            ha='center',\n",
    "            fontsize=9)"
   ]
  },
  {
   "cell_type": "code",
   "execution_count": 9,
   "id": "ce65128a",
   "metadata": {},
   "outputs": [
    {
     "data": {
      "text/html": [
       "<div>\n",
       "<style scoped>\n",
       "    .dataframe tbody tr th:only-of-type {\n",
       "        vertical-align: middle;\n",
       "    }\n",
       "\n",
       "    .dataframe tbody tr th {\n",
       "        vertical-align: top;\n",
       "    }\n",
       "\n",
       "    .dataframe thead th {\n",
       "        text-align: right;\n",
       "    }\n",
       "</style>\n",
       "<table border=\"1\" class=\"dataframe\">\n",
       "  <thead>\n",
       "    <tr style=\"text-align: right;\">\n",
       "      <th></th>\n",
       "      <th>年份</th>\n",
       "      <th>华东</th>\n",
       "      <th>华北</th>\n",
       "      <th>华南</th>\n",
       "    </tr>\n",
       "  </thead>\n",
       "  <tbody>\n",
       "    <tr>\n",
       "      <th>0</th>\n",
       "      <td>2014</td>\n",
       "      <td>60.50</td>\n",
       "      <td>160.50</td>\n",
       "      <td>160.50</td>\n",
       "    </tr>\n",
       "    <tr>\n",
       "      <th>1</th>\n",
       "      <td>2015</td>\n",
       "      <td>80.74</td>\n",
       "      <td>70.74</td>\n",
       "      <td>180.74</td>\n",
       "    </tr>\n",
       "    <tr>\n",
       "      <th>2</th>\n",
       "      <td>2016</td>\n",
       "      <td>50.63</td>\n",
       "      <td>110.00</td>\n",
       "      <td>150.63</td>\n",
       "    </tr>\n",
       "    <tr>\n",
       "      <th>3</th>\n",
       "      <td>2017</td>\n",
       "      <td>88.00</td>\n",
       "      <td>89.00</td>\n",
       "      <td>388.00</td>\n",
       "    </tr>\n",
       "    <tr>\n",
       "      <th>4</th>\n",
       "      <td>2018</td>\n",
       "      <td>90.43</td>\n",
       "      <td>30.43</td>\n",
       "      <td>190.43</td>\n",
       "    </tr>\n",
       "    <tr>\n",
       "      <th>5</th>\n",
       "      <td>2019</td>\n",
       "      <td>100.01</td>\n",
       "      <td>100.01</td>\n",
       "      <td>100.01</td>\n",
       "    </tr>\n",
       "    <tr>\n",
       "      <th>6</th>\n",
       "      <td>2020</td>\n",
       "      <td>82.00</td>\n",
       "      <td>100.00</td>\n",
       "      <td>69.00</td>\n",
       "    </tr>\n",
       "  </tbody>\n",
       "</table>\n",
       "</div>"
      ],
      "text/plain": [
       "     年份      华东      华北      华南\n",
       "0  2014   60.50  160.50  160.50\n",
       "1  2015   80.74   70.74  180.74\n",
       "2  2016   50.63  110.00  150.63\n",
       "3  2017   88.00   89.00  388.00\n",
       "4  2018   90.43   30.43  190.43\n",
       "5  2019  100.01  100.01  100.01\n",
       "6  2020   82.00  100.00   69.00"
      ]
     },
     "execution_count": 9,
     "metadata": {},
     "output_type": "execute_result"
    }
   ],
   "source": [
    "df2=pd.read_excel('data/plot1.xlsx',sheet_name='bar2')\n",
    "df2"
   ]
  },
  {
   "cell_type": "code",
   "execution_count": 10,
   "id": "ee3e5971",
   "metadata": {},
   "outputs": [],
   "source": [
    "x,y1,y2,y3=df2.年份, df2.华东,df2.华北,df2.华南"
   ]
  },
  {
   "cell_type": "code",
   "execution_count": 72,
   "id": "d507ec0c",
   "metadata": {},
   "outputs": [
    {
     "data": {
      "image/png": "[encoded data removed]",
      "text/plain": [
       "<Figure size 500x300 with 1 Axes>"
      ]
     },
     "metadata": {},
     "output_type": "display_data"
    }
   ],
   "source": [
    "plt.figure(figsize=(5,3))\n",
    "plt.title('年投资额')\n",
    "plt.xlabel('年份')\n",
    "plt.ylabel('投资额')\n",
    "\n",
    "w=0.2\n",
    "plt.bar(x-w,y1,width=w,label='华东')\n",
    "plt.bar(x,y2,width=w,label='华北')\n",
    "plt.bar(x+w,y3,width=w,label='华南')\n",
    "\n",
    "plt.legend()\n",
    "plt.savefig('bar1.jpg')"
   ]
  },
  {
   "cell_type": "markdown",
   "id": "0239e2f4",
   "metadata": {},
   "source": [
    "## 可以有四种方法插入图片： https://zhuanlan.zhihu.com/p/658297307"
   ]
  },
  {
   "cell_type": "code",
   "execution_count": 11,
   "id": "d9e6e517",
   "metadata": {},
   "outputs": [
    {
     "data": {
      "text/plain": [
       "<matplotlib.legend.Legend at 0x1d398abcdf0>"
      ]
     },
     "execution_count": 11,
     "metadata": {},
     "output_type": "execute_result"
    },
    {
     "data": {
      "image/png": "[encoded data removed]",
      "text/plain": [
       "<Figure size 360x216 with 1 Axes>"
      ]
     },
     "metadata": {
      "needs_background": "light"
     },
     "output_type": "display_data"
    }
   ],
   "source": [
    "plt.figure(figsize=(5,3))\n",
    "plt.title('年投资额')\n",
    "plt.xlabel('年份')\n",
    "plt.ylabel('投资额')\n",
    "\n",
    " \n",
    "plt.bar(x,y1 ,label='华东')\n",
    "plt.bar(x,y2,label='华北',bottom=y1)\n",
    "plt.bar(x,y3,label='华南',bottom=y1+y2)\n",
    "\n",
    "plt.legend()"
   ]
  },
  {
   "cell_type": "code",
   "execution_count": 12,
   "id": "b21f98e2",
   "metadata": {},
   "outputs": [
    {
     "data": {
      "text/plain": [
       "<BarContainer object of 7 artists>"
      ]
     },
     "execution_count": 12,
     "metadata": {},
     "output_type": "execute_result"
    },
    {
     "data": {
      "image/png": "[encoded data removed]",
      "text/plain": [
       "<Figure size 432x288 with 1 Axes>"
      ]
     },
     "metadata": {
      "needs_background": "light"
     },
     "output_type": "display_data"
    }
   ],
   "source": [
    "plt.barh(x,y1)"
   ]
  },
  {
   "cell_type": "code",
   "execution_count": 13,
   "id": "95a5c46c",
   "metadata": {},
   "outputs": [
    {
     "data": {
      "text/plain": [
       "array([1, 4, 2, 0, 5, 3, 9, 0, 8, 0, 1, 6, 6, 1, 4, 5, 2, 4, 5, 1, 5, 5,\n",
       "       2, 1, 8, 5, 1, 1, 1, 1, 7, 1, 3, 2, 6, 8, 7, 7, 9, 5, 8, 0, 7, 3,\n",
       "       7, 4, 2, 0, 3, 1, 5, 7, 6, 1, 1, 6, 4, 1, 9, 6, 8, 3, 1, 5, 4, 3,\n",
       "       2, 8, 6, 5, 8, 8, 2, 2, 9, 1, 7, 3, 7, 1, 2, 2, 8, 6, 8, 8, 2, 5,\n",
       "       1, 1, 7, 1, 9, 5, 5, 1, 9, 3, 2, 2])"
      ]
     },
     "execution_count": 13,
     "metadata": {},
     "output_type": "execute_result"
    }
   ],
   "source": [
    "x=np.random.randint(0,10,100)\n",
    "x"
   ]
  },
  {
   "cell_type": "code",
   "execution_count": 14,
   "id": "45f08938",
   "metadata": {},
   "outputs": [
    {
     "data": {
      "text/plain": [
       "1    21\n",
       "2    13\n",
       "5    13\n",
       "8    11\n",
       "7     9\n",
       "3     8\n",
       "6     8\n",
       "4     6\n",
       "9     6\n",
       "0     5\n",
       "dtype: int64"
      ]
     },
     "execution_count": 14,
     "metadata": {},
     "output_type": "execute_result"
    }
   ],
   "source": [
    "pd.Series(x).value_counts()"
   ]
  },
  {
   "cell_type": "code",
   "execution_count": 15,
   "id": "024ac9d4",
   "metadata": {},
   "outputs": [
    {
     "data": {
      "image/png": "[encoded data removed]",
      "text/plain": [
       "<Figure size 432x288 with 1 Axes>"
      ]
     },
     "metadata": {
      "needs_background": "light"
     },
     "output_type": "display_data"
    }
   ],
   "source": [
    "#plt.hist(x,bins=5)\n",
    "plt.hist(x,bins=[0,3,6,9])\n",
    "\n",
    "plt.xticks(range(10))\n",
    "plt.show()"
   ]
  }
 ],
 "metadata": {
  "kernelspec": {
   "display_name": "Python 3 (ipykernel)",
   "language": "python",
   "name": "python3"
  },
  "language_info": {
   "codemirror_mode": {
    "name": "ipython",
    "version": 3
   },
   "file_extension": ".py",
   "mimetype": "text/x-python",
   "name": "python",
   "nbconvert_exporter": "python",
   "pygments_lexer": "ipython3",
   "version": "3.9.2"
  }
 },
 "nbformat": 4,
 "nbformat_minor": 5
}
